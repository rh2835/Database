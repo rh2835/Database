{
 "cells": [
  {
   "cell_type": "markdown",
   "metadata": {},
   "source": [
    "Reference: https://www.datacamp.com/community/tutorials/introduction-mongodb-python\n",
    "\n",
    "SQL vs NoSQL Difference \n",
    "\n",
    "Data in RDBMS is stored in database objects called tables.\n",
    "In NoSQL, data is stored in several ways: column-orientied, document-oriented, graph-based, or key-value store."
   ]
  },
  {
   "cell_type": "markdown",
   "metadata": {},
   "source": [
    "NoSQL advantage:\n",
    "1. Documents can be created without having to first define their structure\n",
    "2. Each document can have its own unique structure\n",
    "3. The syntax vary from db to db\n",
    "4. Large volumns of structured, semi-structured, unstructured data\n",
    "5. easy to use OOP programming\n",
    "6. Horizontally scalable"
   ]
  },
  {
   "cell_type": "markdown",
   "metadata": {},
   "source": [
    "Document db: MongoDB<br/>\n",
    "Graph stores: Neo4J, Giraph(social connections data)<br/>\n",
    "Key-value stores: Redis<br/>\n",
    "Wide-column stores: HBase(optimized for queries over large datasets<br/>"
   ]
  },
  {
   "cell_type": "code",
   "execution_count": 3,
   "metadata": {},
   "outputs": [],
   "source": [
    "import pymongo"
   ]
  },
  {
   "cell_type": "code",
   "execution_count": 4,
   "metadata": {},
   "outputs": [],
   "source": [
    "from pymongo import MongoClient\n",
    "client = MongoClient()"
   ]
  },
  {
   "cell_type": "code",
   "execution_count": 16,
   "metadata": {},
   "outputs": [],
   "source": [
    "#specify host and port\n",
    "client = MongoClient()"
   ]
  },
  {
   "cell_type": "code",
   "execution_count": 17,
   "metadata": {},
   "outputs": [],
   "source": [
    "#create a database\n",
    "db = client['datacampdb']"
   ]
  },
  {
   "cell_type": "code",
   "execution_count": 18,
   "metadata": {},
   "outputs": [],
   "source": [
    "#inserting a document\n",
    "article = {\n",
    "    \"learner\": \"rh2835\",\n",
    "    \"about\": \"integration of mongodb and python\",\n",
    "    \"tags\": [\"mongodb\", \"python\", \"pymongo\"]\n",
    "}\n",
    "articles = db.articles\n",
    "result = articles.insert_one(article)"
   ]
  },
  {
   "cell_type": "code",
   "execution_count": 19,
   "metadata": {},
   "outputs": [
    {
     "name": "stdout",
     "output_type": "stream",
     "text": [
      "first article key is: 5be765eec600ebe49eedb18f\n"
     ]
    }
   ],
   "source": [
    "print(\"first article key is: {}\".format(result.inserted_id))"
   ]
  },
  {
   "cell_type": "code",
   "execution_count": 20,
   "metadata": {},
   "outputs": [
    {
     "data": {
      "text/plain": [
       "['articles']"
      ]
     },
     "execution_count": 20,
     "metadata": {},
     "output_type": "execute_result"
    }
   ],
   "source": [
    "#confirm the article collection is created\n",
    "db.list_collection_names()"
   ]
  },
  {
   "cell_type": "code",
   "execution_count": 35,
   "metadata": {},
   "outputs": [],
   "source": [
    "#insert more document \n",
    "article1 = {\n",
    "    \"learner\": \"yuanchen\",\n",
    "    \"about\": \"knn and python\",\n",
    "    \"tags\": [\"knn\", \"pymongo\"]\n",
    "}\n",
    "\n",
    "article2 = {\n",
    "    \"learner\": \"lingling\",\n",
    "    \"about\": \"web development and python\",\n",
    "    \"tags\": [\"web\",\"design\",\"html\"]\n",
    "}"
   ]
  },
  {
   "cell_type": "code",
   "execution_count": 36,
   "metadata": {},
   "outputs": [],
   "source": [
    "new_articles = articles.insert_many([article1,article2])"
   ]
  },
  {
   "cell_type": "code",
   "execution_count": 37,
   "metadata": {},
   "outputs": [
    {
     "name": "stdout",
     "output_type": "stream",
     "text": [
      "the new article IDs are[ObjectId('5be78395c600ebe49eedb192'), ObjectId('5be78395c600ebe49eedb193')]\n"
     ]
    }
   ],
   "source": [
    "print(\"the new article IDs are{}\".format(new_articles.inserted_ids))"
   ]
  },
  {
   "cell_type": "code",
   "execution_count": 38,
   "metadata": {},
   "outputs": [
    {
     "name": "stdout",
     "output_type": "stream",
     "text": [
      "{'_id': ObjectId('5be765eec600ebe49eedb18f'), 'learner': 'rh2835', 'about': 'integration of mongodb and python', 'tags': ['mongodb', 'python', 'pymongo']}\n"
     ]
    }
   ],
   "source": [
    "#retrive a single document \n",
    "print(articles.find_one())"
   ]
  },
  {
   "cell_type": "code",
   "execution_count": 39,
   "metadata": {},
   "outputs": [
    {
     "name": "stdout",
     "output_type": "stream",
     "text": [
      "{'_id': ObjectId('5be765eec600ebe49eedb18f'), 'learner': 'rh2835', 'about': 'integration of mongodb and python', 'tags': ['mongodb', 'python', 'pymongo']}\n",
      "{'_id': ObjectId('5be77d7fc600ebe49eedb190'), 'author': 'yuanchen', 'about': 'knn and python', 'tags': ['knn', 'pymongo']}\n",
      "{'_id': ObjectId('5be77d7fc600ebe49eedb191'), 'author': 'lingling', 'about': 'web development and python', 'tags': ['web', 'design', 'html']}\n",
      "{'_id': ObjectId('5be78395c600ebe49eedb192'), 'learner': 'yuanchen', 'about': 'knn and python', 'tags': ['knn', 'pymongo']}\n",
      "{'_id': ObjectId('5be78395c600ebe49eedb193'), 'learner': 'lingling', 'about': 'web development and python', 'tags': ['web', 'design', 'html']}\n"
     ]
    }
   ],
   "source": [
    "#retrive all document\n",
    "for article in articles.find():\n",
    "    print (article)"
   ]
  },
  {
   "cell_type": "code",
   "execution_count": 40,
   "metadata": {},
   "outputs": [],
   "source": [
    "#for web applications, if need to get string url ID\n",
    "#first, convert obtained string ID into an ObjectId\n",
    "from bson.objectid import ObjectId\n",
    "def get(post_id):\n",
    "    document = client.db.collection.find_one({\n",
    "        '_id': ObjectId(post_id)\n",
    "    })"
   ]
  },
  {
   "cell_type": "code",
   "execution_count": 41,
   "metadata": {},
   "outputs": [
    {
     "name": "stdout",
     "output_type": "stream",
     "text": [
      "{'learner': 'rh2835', 'about': 'integration of mongodb and python'}\n",
      "{'about': 'knn and python'}\n",
      "{'about': 'web development and python'}\n",
      "{'learner': 'yuanchen', 'about': 'knn and python'}\n",
      "{'learner': 'lingling', 'about': 'web development and python'}\n"
     ]
    }
   ],
   "source": [
    "#return selected fields\n",
    "for article in articles.find(\n",
    "    {},{\"_id\":0, \"learner\":1, \"about\":1}\n",
    "):\n",
    "    print(article)"
   ]
  },
  {
   "cell_type": "code",
   "execution_count": 42,
   "metadata": {},
   "outputs": [
    {
     "name": "stdout",
     "output_type": "stream",
     "text": [
      "{'_id': ObjectId('5be78395c600ebe49eedb192'), 'learner': 'yuanchen', 'about': 'knn and python', 'tags': ['knn', 'pymongo']}\n",
      "{'_id': ObjectId('5be765eec600ebe49eedb18f'), 'learner': 'rh2835', 'about': 'integration of mongodb and python', 'tags': ['mongodb', 'python', 'pymongo']}\n",
      "{'_id': ObjectId('5be78395c600ebe49eedb193'), 'learner': 'lingling', 'about': 'web development and python', 'tags': ['web', 'design', 'html']}\n",
      "{'_id': ObjectId('5be77d7fc600ebe49eedb190'), 'author': 'yuanchen', 'about': 'knn and python', 'tags': ['knn', 'pymongo']}\n",
      "{'_id': ObjectId('5be77d7fc600ebe49eedb191'), 'author': 'lingling', 'about': 'web development and python', 'tags': ['web', 'design', 'html']}\n"
     ]
    }
   ],
   "source": [
    "#sorting results: 1 asending, -1 descending\n",
    "doc = articles.find().sort(\"learner\",-1)\n",
    "for x in doc:\n",
    "    print(x)"
   ]
  },
  {
   "cell_type": "code",
   "execution_count": 43,
   "metadata": {},
   "outputs": [
    {
     "name": "stdout",
     "output_type": "stream",
     "text": [
      "{'_id': ObjectId('5be765eec600ebe49eedb18f'), 'learner': 'john', 'about': 'integration of mongodb and python', 'tags': ['mongodb', 'python', 'pymongo']}\n",
      "{'_id': ObjectId('5be77d7fc600ebe49eedb190'), 'author': 'yuanchen', 'about': 'knn and python', 'tags': ['knn', 'pymongo']}\n",
      "{'_id': ObjectId('5be77d7fc600ebe49eedb191'), 'author': 'lingling', 'about': 'web development and python', 'tags': ['web', 'design', 'html']}\n",
      "{'_id': ObjectId('5be78395c600ebe49eedb192'), 'learner': 'yuanchen', 'about': 'knn and python', 'tags': ['knn', 'pymongo']}\n",
      "{'_id': ObjectId('5be78395c600ebe49eedb193'), 'learner': 'lingling', 'about': 'web development and python', 'tags': ['web', 'design', 'html']}\n"
     ]
    }
   ],
   "source": [
    "#update a doc\n",
    "query = {\"learner\": \"rh2835\"}\n",
    "new_author = {\"$set\": {\"learner\": \"john\"}}\n",
    "articles.update_one(query,new_author)\n",
    "for article in articles.find():\n",
    "    print(article)"
   ]
  },
  {
   "cell_type": "code",
   "execution_count": 44,
   "metadata": {},
   "outputs": [
    {
     "name": "stdout",
     "output_type": "stream",
     "text": [
      "{'_id': ObjectId('5be765eec600ebe49eedb18f'), 'learner': 'john', 'about': 'integration of mongodb and python', 'tags': ['mongodb', 'python', 'pymongo']}\n"
     ]
    }
   ],
   "source": [
    "#limit result\n",
    "limited_result = articles.find().limit(1)\n",
    "for x in limited_result:\n",
    "    print(x)"
   ]
  },
  {
   "cell_type": "code",
   "execution_count": 47,
   "metadata": {},
   "outputs": [
    {
     "name": "stdout",
     "output_type": "stream",
     "text": [
      "0  articles deleted\n"
     ]
    }
   ],
   "source": [
    "#delete a doc\n",
    "delete_articles = db.articles.delete_one({\"_id\": ObjectId('5be765eec600ebe49eedb18f')\n",
    "                       })\n",
    "#delete_many for multiple doc\n",
    "print(delete_articles.deleted_count,\" articles deleted\")"
   ]
  },
  {
   "cell_type": "code",
   "execution_count": 49,
   "metadata": {},
   "outputs": [],
   "source": [
    "#drop a collection\n",
    "#articles.drop()\n",
    "\n",
    "#confirm droping\n",
    "#db.list_collection_names()"
   ]
  },
  {
   "cell_type": "code",
   "execution_count": 50,
   "metadata": {},
   "outputs": [
    {
     "data": {
      "text/plain": [
       "MongoClient(host=['localhost:27017'], document_class=dict, tz_aware=False, connect=True, read_preference=Primary())"
      ]
     },
     "execution_count": 50,
     "metadata": {},
     "output_type": "execute_result"
    }
   ],
   "source": [
    "#ODM: object document mapper\n",
    "from mongoengine import *\n",
    "connect('datacampdb')"
   ]
  },
  {
   "cell_type": "code",
   "execution_count": 51,
   "metadata": {},
   "outputs": [],
   "source": [
    "#define the fields a user will have and data types\n",
    "#required=T, we have to specify this field when creating a user\n",
    "class User(Document):\n",
    "    email = StringField(required=True)\n",
    "    first_name = StringField(max_length=30)\n",
    "    last_name = StringField(max_length=30)"
   ]
  },
  {
   "cell_type": "code",
   "execution_count": 52,
   "metadata": {},
   "outputs": [],
   "source": [
    "#create posts doc and reference the users doc\n",
    "class Post(Document):\n",
    "    title = StringField(max_length=120, required=True)\n",
    "    author = ReferenceField(User)"
   ]
  },
  {
   "cell_type": "code",
   "execution_count": 53,
   "metadata": {},
   "outputs": [
    {
     "data": {
      "text/plain": [
       "<User: User object>"
      ]
     },
     "execution_count": 53,
     "metadata": {},
     "output_type": "execute_result"
    }
   ],
   "source": [
    "user = User(email=\"abc@gmail.com\", \n",
    "           first_name=\"yuan\",\n",
    "           last_name=\"chen\")\n",
    "user.save()"
   ]
  },
  {
   "cell_type": "code",
   "execution_count": 54,
   "metadata": {},
   "outputs": [
    {
     "name": "stdout",
     "output_type": "stream",
     "text": [
      "5be78cd5c600ebe49eedb195 abc@gmail.com\n"
     ]
    }
   ],
   "source": [
    "print(user.id, user.email)"
   ]
  },
  {
   "cell_type": "markdown",
   "metadata": {},
   "source": [
    "Pros and Cons for ORM(object relational mapper)<br/>\n",
    "\n",
    "Using ORM saves a lot of time because:<br/>\n",
    "    1. DRY(don't repeat code)<br/>\n",
    "    2. a lot of staff is done automatically\n",
    "    3. no poorly-formed SWL\n",
    "\n",
    "Using ORM library is more flexible:<br/>\n",
    "    1. It abstracts the DB system, so you can change it whenever you want\n",
    "\n",
    "Using ORM can be a pain:<br/>\n",
    "    1. you have to learn it\n",
    "    2. you have to set it up\n",
    "    3. Performance is OK for usual queries, not for complex queries for big projects\n",
    "    4. it's a trap for new programmers to write very greedy statements"
   ]
  }
 ],
 "metadata": {
  "kernelspec": {
   "display_name": "Python 3",
   "language": "python",
   "name": "python3"
  },
  "language_info": {
   "codemirror_mode": {
    "name": "ipython",
    "version": 3
   },
   "file_extension": ".py",
   "mimetype": "text/x-python",
   "name": "python",
   "nbconvert_exporter": "python",
   "pygments_lexer": "ipython3",
   "version": "3.6.5"
  }
 },
 "nbformat": 4,
 "nbformat_minor": 2
}
